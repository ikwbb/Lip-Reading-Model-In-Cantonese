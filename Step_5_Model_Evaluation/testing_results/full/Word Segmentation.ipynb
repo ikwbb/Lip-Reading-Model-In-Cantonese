{
 "cells": [
  {
   "cell_type": "markdown",
   "id": "98cc3124",
   "metadata": {},
   "source": [
    "## Word Segmentation for WER Analysis\n",
    "\n",
    "This Jupyter Notebook performs **word segmentation** as a preprocessing step for calculating the **Word Error Rate (WER)**. The segmentation method used is aligned with the evaluation approach described in [Xiao et al.](https://ietresearch.onlinelibrary.wiley.com/doi/full/10.1049/ipr2.13123), which ensures consistency and comparability with their results."
   ]
  },
  {
   "cell_type": "markdown",
   "id": "913554cc",
   "metadata": {},
   "source": [
    "Before executing the cell, please install  ```cantoseg``` by using the following command:\n",
    "\n",
    "```pip install cantoseg```"
   ]
  },
  {
   "cell_type": "code",
   "execution_count": null,
   "id": "4bc4c787-0573-4b24-9376-c97cf2249c32",
   "metadata": {},
   "outputs": [
    {
     "name": "stderr",
     "output_type": "stream",
     "text": [
      "100%|██████████| 30648/30648 [04:33<00:00, 112.21it/s]\n",
      "100%|██████████| 30648/30648 [05:24<00:00, 94.51it/s] \n"
     ]
    },
    {
     "name": "stdout",
     "output_type": "stream",
     "text": [
      "Word Segmentation is completed. New CSV file have been saved.\n"
     ]
    }
   ],
   "source": [
    "import pandas as pd\n",
    "import cantoseg\n",
    "from tqdm import tqdm\n",
    "\n",
    "tqdm.pandas()\n",
    "df = pd.read_csv('./result_tvb_134_epoch_test_absolute_full.csv')\n",
    "\n",
    "# Segmentation function (space-separated for readability or further processing)\n",
    "def tokenize(text):\n",
    "    if pd.isna(text):\n",
    "        return ''\n",
    "    return ' '.join(cantoseg.cut(str(text)))\n",
    "\n",
    "# Perform segmentation using the cantoseg library\n",
    "df['transcript_trad_word_segmented'] = df['transcript_trad'].progress_apply(tokenize)\n",
    "df['predicted_cantonese_word_segmented'] = df['predicted_cantonese'].progress_apply(tokenize)\n",
    "\n",
    "df.to_csv('./result_tvb_59_epoch_test_absolute_full_word_segmented.csv', index=False)\n",
    "\n",
    "print(\"Word Segmentation is completed. New CSV file have been saved.\")\n"
   ]
  },
  {
   "cell_type": "code",
   "execution_count": null,
   "id": "451136e4-3195-4d89-ac1a-ecc1fff20442",
   "metadata": {},
   "outputs": [
    {
     "name": "stderr",
     "output_type": "stream",
     "text": [
      "100%|██████████| 7590/7590 [01:31<00:00, 82.58it/s] \n",
      "100%|██████████| 7590/7590 [01:40<00:00, 75.68it/s] \n"
     ]
    },
    {
     "name": "stdout",
     "output_type": "stream",
     "text": [
      "Word Segmentation is completed. New CSV file have been saved.\n"
     ]
    }
   ],
   "source": [
    "import pandas as pd\n",
    "import cantoseg\n",
    "from tqdm import tqdm\n",
    "\n",
    "tqdm.pandas()\n",
    "df = pd.read_csv('./result_icable_134_epoch_test_absolute_full.csv')\n",
    "\n",
    "# Segmentation function (space-separated for readability or further processing)\n",
    "def tokenize(text):\n",
    "    if pd.isna(text):\n",
    "        return ''\n",
    "    return ' '.join(cantoseg.cut(str(text)))\n",
    "\n",
    "# Perform segmentation using the cantoseg library\n",
    "df['transcript_trad_word_segmented'] = df['transcript_trad'].progress_apply(tokenize)\n",
    "df['predicted_cantonese_word_segmented'] = df['predicted_cantonese'].progress_apply(tokenize)\n",
    "\n",
    "df.to_csv('./result_icable_59_epoch_test_absolute_full_word_segmented.csv', index=False)\n",
    "\n",
    "print(\"Word Segmentation is completed. New CSV file have been saved.\")\n"
   ]
  },
  {
   "cell_type": "code",
   "execution_count": null,
   "id": "748157e0-417e-4e90-b7ed-95d20b219110",
   "metadata": {},
   "outputs": [],
   "source": []
  }
 ],
 "metadata": {
  "kernelspec": {
   "display_name": "Python 3 (ipykernel)",
   "language": "python",
   "name": "python3"
  },
  "language_info": {
   "codemirror_mode": {
    "name": "ipython",
    "version": 3
   },
   "file_extension": ".py",
   "mimetype": "text/x-python",
   "name": "python",
   "nbconvert_exporter": "python",
   "pygments_lexer": "ipython3",
   "version": "3.12.3"
  }
 },
 "nbformat": 4,
 "nbformat_minor": 5
}
