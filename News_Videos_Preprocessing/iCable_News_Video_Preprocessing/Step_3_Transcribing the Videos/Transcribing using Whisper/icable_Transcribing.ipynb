{
 "cells": [
  {
   "cell_type": "markdown",
   "id": "dbcd45ac",
   "metadata": {},
   "source": [
    "# Load the dividing point of videos\n",
    "Dividing Point is the timestamp when the news reporters disappear in the scene."
   ]
  },
  {
   "cell_type": "code",
   "execution_count": 1,
   "id": "996b62fa-631e-4ed2-92e8-60bd48e0d0f3",
   "metadata": {},
   "outputs": [],
   "source": [
    "import pandas as pd"
   ]
  },
  {
   "cell_type": "code",
   "execution_count": null,
   "id": "2cae728b-fa73-431c-a28a-888bec91e0b3",
   "metadata": {},
   "outputs": [],
   "source": [
    "cutpt_df = pd.read_pickle(r\"./icable-clip-feature-extraction/cut_points.pkl\")\n",
    "cutpt_df = cutpt_df[cutpt_df[\"has_problem\"] == False]"
   ]
  },
  {
   "cell_type": "code",
   "execution_count": 9,
   "id": "73c70743-bfbb-4dca-b19d-9023e2da65a1",
   "metadata": {},
   "outputs": [
    {
     "name": "stdout",
     "output_type": "stream",
     "text": [
      "      video_name  cut_frame  has_problem\n",
      "0          0.mp4        197        False\n",
      "1          1.mp4         38        False\n",
      "2       1000.mp4        359        False\n",
      "3      10001.mp4        347        False\n",
      "4      10002.mp4        143        False\n",
      "...          ...        ...          ...\n",
      "28894   9991.mp4        199        False\n",
      "28895   9992.mp4        326        False\n",
      "28896   9994.mp4        158        False\n",
      "28897   9996.mp4        132        False\n",
      "28898   9997.mp4        296        False\n",
      "\n",
      "[28895 rows x 3 columns]\n"
     ]
    }
   ],
   "source": [
    "print(cutpt_df)"
   ]
  },
  {
   "cell_type": "markdown",
   "id": "8d06664f",
   "metadata": {},
   "source": [
    "# Generating transcribing as SRT files and output audio stream as mp3 files "
   ]
  },
  {
   "cell_type": "code",
   "execution_count": null,
   "id": "baaef3b5-fcd9-4df2-8a27-c37ad7dac851",
   "metadata": {},
   "outputs": [
    {
     "name": "stderr",
     "output_type": "stream",
     "text": [
      "C:\\Users\\user\\AppData\\Local\\anaconda3\\Lib\\site-packages\\whisper\\__init__.py:150: FutureWarning: You are using `torch.load` with `weights_only=False` (the current default value), which uses the default pickle module implicitly. It is possible to construct malicious pickle data which will execute arbitrary code during unpickling (See https://github.com/pytorch/pytorch/blob/main/SECURITY.md#untrusted-models for more details). In a future release, the default value for `weights_only` will be flipped to `True`. This limits the functions that could be executed during unpickling. Arbitrary objects will no longer be allowed to be loaded via this mode unless they are explicitly allowlisted by the user via `torch.serialization.add_safe_globals`. We recommend you start setting `weights_only=True` for any use case where you don't have full control of the loaded file. Please open an issue on GitHub for any issues related to this experimental feature.\n",
      "  checkpoint = torch.load(fp, map_location=device)\n",
      "Processing videos:  39%|████████████████████▊                                | 11363/28895 [5:17:30<4:43:55,  1.03it/s]"
     ]
    },
    {
     "name": "stdout",
     "output_type": "stream",
     "text": [
      "Error transcribing 28964.mp4: Failed to load audio: ffmpeg version 7.1-full_build-www.gyan.dev Copyright (c) 2000-2024 the FFmpeg developers\n",
      "  built with gcc 14.2.0 (Rev1, Built by MSYS2 project)\n",
      "  configuration: --enable-gpl --enable-version3 --enable-static --disable-w32threads --disable-autodetect --enable-fontconfig --enable-iconv --enable-gnutls --enable-libxml2 --enable-gmp --enable-bzlib --enable-lzma --enable-libsnappy --enable-zlib --enable-librist --enable-libsrt --enable-libssh --enable-libzmq --enable-avisynth --enable-libbluray --enable-libcaca --enable-sdl2 --enable-libaribb24 --enable-libaribcaption --enable-libdav1d --enable-libdavs2 --enable-libopenjpeg --enable-libquirc --enable-libuavs3d --enable-libxevd --enable-libzvbi --enable-libqrencode --enable-librav1e --enable-libsvtav1 --enable-libvvenc --enable-libwebp --enable-libx264 --enable-libx265 --enable-libxavs2 --enable-libxeve --enable-libxvid --enable-libaom --enable-libjxl --enable-libvpx --enable-mediafoundation --enable-libass --enable-frei0r --enable-libfreetype --enable-libfribidi --enable-libharfbuzz --enable-liblensfun --enable-libvidstab --enable-libvmaf --enable-libzimg --enable-amf --enable-cuda-llvm --enable-cuvid --enable-dxva2 --enable-d3d11va --enable-d3d12va --enable-ffnvcodec --enable-libvpl --enable-nvdec --enable-nvenc --enable-vaapi --enable-libshaderc --enable-vulkan --enable-libplacebo --enable-opencl --enable-libcdio --enable-libgme --enable-libmodplug --enable-libopenmpt --enable-libopencore-amrwb --enable-libmp3lame --enable-libshine --enable-libtheora --enable-libtwolame --enable-libvo-amrwbenc --enable-libcodec2 --enable-libilbc --enable-libgsm --enable-liblc3 --enable-libopencore-amrnb --enable-libopus --enable-libspeex --enable-libvorbis --enable-ladspa --enable-libbs2b --enable-libflite --enable-libmysofa --enable-librubberband --enable-libsoxr --enable-chromaprint\n",
      "  libavutil      59. 39.100 / 59. 39.100\n",
      "  libavcodec     61. 19.100 / 61. 19.100\n",
      "  libavformat    61.  7.100 / 61.  7.100\n",
      "  libavdevice    61.  3.100 / 61.  3.100\n",
      "  libavfilter    10.  4.100 / 10.  4.100\n",
      "  libswscale      8.  3.100 /  8.  3.100\n",
      "  libswresample   5.  3.100 /  5.  3.100\n",
      "  libpostproc    58.  3.100 / 58.  3.100\n",
      "[in#0 @ 00000225871d0640] Error opening input: Invalid data found when processing input\n",
      "Error opening input file ./icable Reporter MP3/28964.mp3.\n",
      "Error opening input files: Invalid data found when processing input\n",
      "\n"
     ]
    },
    {
     "name": "stderr",
     "output_type": "stream",
     "text": [
      "Processing videos: 100%|██████████████████████████████████████████████████████| 28895/28895 [13:28:03<00:00,  1.68s/it]\n"
     ]
    }
   ],
   "source": [
    "import os\n",
    "import cv2\n",
    "import subprocess\n",
    "import pandas as pd\n",
    "import whisper\n",
    "from whisper.utils import get_writer\n",
    "from tqdm import tqdm  \n",
    "\n",
    "\n",
    "model = whisper.load_model(\"large-v3\")  \n",
    "\n",
    "\n",
    "video_folder = r\"./icable Reporter Videos\"\n",
    "\n",
    "\n",
    "output_dir = \"./srts\"\n",
    "os.makedirs(output_dir, exist_ok=True)\n",
    "\n",
    "\n",
    "mp3_output_dir = r\"./icable Reporter MP3\"\n",
    "os.makedirs(mp3_output_dir, exist_ok=True)\n",
    "\n",
    "def get_frame_rate(video_path):\n",
    "    \"\"\"\n",
    "    Get the frame rate of a video using OpenCV.\n",
    "    \"\"\"\n",
    "    cap = cv2.VideoCapture(video_path)\n",
    "    if not cap.isOpened():\n",
    "        return None\n",
    "    frame_rate = cap.get(cv2.CAP_PROP_FPS)\n",
    "    cap.release()\n",
    "    return frame_rate\n",
    "\n",
    "\n",
    "for index, row in tqdm(cutpt_df.iterrows(), total=len(cutpt_df), desc=\"Processing videos\"):\n",
    "    video_name = row[\"video_name\"]\n",
    "    cut_frame = row[\"cut_frame\"]\n",
    "    video_path = os.path.join(video_folder, video_name)\n",
    "\n",
    "    if row[\"has_problem\"]:\n",
    "        print(f\"Skipping {video_name} due to problems.\")\n",
    "        continue\n",
    "\n",
    "    \n",
    "\n",
    "    \n",
    "    frame_rate = get_frame_rate(video_path)\n",
    "    if frame_rate is None:\n",
    "        print(f\"Could not determine frame rate for {video_name}. Skipping.\")\n",
    "        continue\n",
    "\n",
    "    \n",
    "    duration_seconds = cut_frame / frame_rate\n",
    "\n",
    "    \n",
    "    mp3_file_path = os.path.join(mp3_output_dir, f\"{os.path.splitext(video_name)[0]}.mp3\")\n",
    "\n",
    "    \n",
    "    ffmpeg_cmd = [\n",
    "        \"ffmpeg\",\n",
    "        \"-y\",  \n",
    "        \"-i\", video_path,  \n",
    "        \"-t\", str(duration_seconds),  \n",
    "        \"-vn\",  \n",
    "        \"-c:a\", \"libmp3lame\",  \n",
    "        mp3_file_path,  \n",
    "    ]\n",
    "\n",
    "    try:\n",
    "        subprocess.run(ffmpeg_cmd, check=True)\n",
    "    except subprocess.CalledProcessError as e:\n",
    "        print(f\"Error processing {video_name}: {e}\")\n",
    "        continue\n",
    "\n",
    "    \n",
    "    try:\n",
    "        result = model.transcribe(mp3_file_path, task=\"transcribe\", language=\"cantonese\", fp16=False)\n",
    "\n",
    "        \n",
    "        writer = get_writer(\"srt\", output_dir)\n",
    "        writer(result, os.path.join(output_dir, f\"{os.path.splitext(video_name)[0]}.srt\"))\n",
    "        \n",
    "    except Exception as e:\n",
    "        print(f\"Error transcribing {video_name}: {e}\")\n",
    "        continue\n",
    "\n",
    "    \n",
    "    \n"
   ]
  },
  {
   "cell_type": "code",
   "execution_count": null,
   "id": "fb6813d1-af0d-4154-bc00-960735eb86eb",
   "metadata": {},
   "outputs": [],
   "source": []
  }
 ],
 "metadata": {
  "kernelspec": {
   "display_name": "Python 3 (ipykernel)",
   "language": "python",
   "name": "python3"
  },
  "language_info": {
   "codemirror_mode": {
    "name": "ipython",
    "version": 3
   },
   "file_extension": ".py",
   "mimetype": "text/x-python",
   "name": "python",
   "nbconvert_exporter": "python",
   "pygments_lexer": "ipython3",
   "version": "3.12.7"
  }
 },
 "nbformat": 4,
 "nbformat_minor": 5
}
