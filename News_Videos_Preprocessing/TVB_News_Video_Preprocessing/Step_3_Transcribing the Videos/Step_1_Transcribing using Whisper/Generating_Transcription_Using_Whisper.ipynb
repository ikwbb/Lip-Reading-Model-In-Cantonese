{
 "cells": [
  {
   "cell_type": "markdown",
   "id": "3466c8ac",
   "metadata": {},
   "source": [
    "# Load the dividing point of videos\n",
    "Dividing Point is the timestamp when the news reporters disappear in the scene."
   ]
  },
  {
   "cell_type": "code",
   "execution_count": null,
   "id": "55c534ea",
   "metadata": {},
   "outputs": [],
   "source": [
    "import pandas as pd"
   ]
  },
  {
   "cell_type": "code",
   "execution_count": null,
   "id": "07b82601",
   "metadata": {},
   "outputs": [],
   "source": [
    "cutpt_df = pd.read_pickle(r\"./Video_Slicing/cut_points.pkl\")\n",
    "cutpt_df = cutpt_df[cutpt_df[\"has_problem\"] == False]"
   ]
  },
  {
   "cell_type": "code",
   "execution_count": null,
   "id": "c9ddd4e4",
   "metadata": {},
   "outputs": [
    {
     "name": "stdout",
     "output_type": "stream",
     "text": [
      "                          video_name  cut_frame  has_problem\n",
      "0       59654a72e6038331360802e0.mp4        235        False\n",
      "1       59655ff4e603831f360802e1.mp4        151        False\n",
      "2       596566e7c5e16c5133bc8476.mp4        153        False\n",
      "3       59656decc5e16c4d33bc8475.mp4        299        False\n",
      "4       59656ed0c5e16c5433bc8475.mp4        170        False\n",
      "...                              ...        ...          ...\n",
      "108045  678cc14d591bed663d6f86ac.mp4        231        False\n",
      "108046  678ccd28591bed663d6fe2c2.mp4        669        False\n",
      "108047  678cd118591bed663d6ffc9e.mp4        999        False\n",
      "108048  678cd46e591bed663d7014d5.mp4        546        False\n",
      "108049  678cd7a1591bed663d702db4.mp4        400        False\n",
      "\n",
      "[108041 rows x 3 columns]\n"
     ]
    }
   ],
   "source": [
    "print(cutpt_df)"
   ]
  },
  {
   "cell_type": "markdown",
   "id": "6aa6124e",
   "metadata": {},
   "source": [
    "# Generating transcribing as SRT files and output audio stream as mp3 files "
   ]
  },
  {
   "cell_type": "code",
   "execution_count": null,
   "id": "7e893dc1",
   "metadata": {},
   "outputs": [
    {
     "name": "stderr",
     "output_type": "stream",
     "text": [
      "C:\\Users\\user\\AppData\\Local\\anaconda3\\Lib\\site-packages\\whisper\\__init__.py:150: FutureWarning: You are using `torch.load` with `weights_only=False` (the current default value), which uses the default pickle module implicitly. It is possible to construct malicious pickle data which will execute arbitrary code during unpickling (See https://github.com/pytorch/pytorch/blob/main/SECURITY.md#untrusted-models for more details). In a future release, the default value for `weights_only` will be flipped to `True`. This limits the functions that could be executed during unpickling. Arbitrary objects will no longer be allowed to be loaded via this mode unless they are explicitly allowlisted by the user via `torch.serialization.add_safe_globals`. We recommend you start setting `weights_only=True` for any use case where you don't have full control of the loaded file. Please open an issue on GitHub for any issues related to this experimental feature.\n",
      "  checkpoint = torch.load(fp, map_location=device)\n",
      "Processing videos:   4%|█▉                                                  | 3943/108041 [1:45:47<41:42:03,  1.44s/it]"
     ]
    },
    {
     "name": "stdout",
     "output_type": "stream",
     "text": [
      "Error processing 5a02fcf0e603830a7523c831.mp4: Command '['ffmpeg', '-y', '-i', './TVB Reporter Videos/5a02fcf0e603830a7523c831.mp4', '-t', '10.04', '-vn', '-c:a', 'libmp3lame', './TVB Reporter MP3/5a02fcf0e603830a7523c831.mp3']' returned non-zero exit status 4294967274.\n"
     ]
    },
    {
     "name": "stderr",
     "output_type": "stream",
     "text": [
      "Processing videos:   4%|██                                                  | 4358/108041 [1:56:59<42:58:35,  1.49s/it]"
     ]
    },
    {
     "name": "stdout",
     "output_type": "stream",
     "text": [
      "Error processing 5a10e273e60383e02d780a59.mp4: Command '['ffmpeg', '-y', '-i', './TVB Reporter Videos/5a10e273e60383e02d780a59.mp4', '-t', '13.3', '-vn', '-c:a', 'libmp3lame', './TVB Reporter MP3/5a10e273e60383e02d780a59.mp3']' returned non-zero exit status 4294967274.\n"
     ]
    },
    {
     "name": "stderr",
     "output_type": "stream",
     "text": [
      "Processing videos: 100%|████████████████████████████████████████████████████| 108041/108041 [50:01:53<00:00,  1.67s/it]\n"
     ]
    }
   ],
   "source": [
    "import os\n",
    "import cv2\n",
    "import subprocess\n",
    "import pandas as pd\n",
    "import whisper\n",
    "from whisper.utils import get_writer\n",
    "from tqdm import tqdm  \n",
    "\n",
    "\n",
    "model = whisper.load_model(\"large\")  \n",
    "\n",
    "\n",
    "video_folder = r\"./TVB Reporter Videos\"\n",
    "\n",
    "\n",
    "output_dir = \"./srts\"\n",
    "os.makedirs(output_dir, exist_ok=True)\n",
    "\n",
    "\n",
    "mp3_output_dir = r\"./TVB Reporter MP3\"\n",
    "os.makedirs(mp3_output_dir, exist_ok=True)\n",
    "\n",
    "def get_frame_rate(video_path):\n",
    "    \"\"\"\n",
    "    Get the frame rate of a video using OpenCV.\n",
    "    \"\"\"\n",
    "    cap = cv2.VideoCapture(video_path)\n",
    "    if not cap.isOpened():\n",
    "        return None\n",
    "    frame_rate = cap.get(cv2.CAP_PROP_FPS)\n",
    "    cap.release()\n",
    "    return frame_rate\n",
    "\n",
    "\n",
    "for index, row in tqdm(cutpt_df.iterrows(), total=len(cutpt_df), desc=\"Processing videos\"):\n",
    "    video_name = row[\"video_name\"]\n",
    "    cut_frame = row[\"cut_frame\"]\n",
    "    video_path = os.path.join(video_folder, video_name)\n",
    "\n",
    "    if row[\"has_problem\"]:\n",
    "        print(f\"Skipping {video_name} due to problems.\")\n",
    "        continue\n",
    "\n",
    "    \n",
    "\n",
    "    \n",
    "    frame_rate = get_frame_rate(video_path)\n",
    "    if frame_rate is None:\n",
    "        print(f\"Could not determine frame rate for {video_name}. Skipping.\")\n",
    "        continue\n",
    "\n",
    "    \n",
    "    duration_seconds = cut_frame / frame_rate\n",
    "\n",
    "    \n",
    "    mp3_file_path = os.path.join(mp3_output_dir, f\"{os.path.splitext(video_name)[0]}.mp3\")\n",
    "\n",
    "    \n",
    "    ffmpeg_cmd = [\n",
    "        \"ffmpeg\",\n",
    "        \"-y\",  \n",
    "        \"-i\", video_path,  \n",
    "        \"-t\", str(duration_seconds),  \n",
    "        \"-vn\",  \n",
    "        \"-c:a\", \"libmp3lame\",  \n",
    "        mp3_file_path,  \n",
    "    ]\n",
    "\n",
    "    try:\n",
    "        subprocess.run(ffmpeg_cmd, check=True)\n",
    "    except subprocess.CalledProcessError as e:\n",
    "        print(f\"Error processing {video_name}: {e}\")\n",
    "        continue\n",
    "\n",
    "    \n",
    "    try:\n",
    "        result = model.transcribe(mp3_file_path, task=\"transcribe\", language=\"cantonese\", fp16=False)\n",
    "\n",
    "        \n",
    "        writer = get_writer(\"srt\", output_dir)\n",
    "        writer(result, os.path.join(output_dir, f\"{os.path.splitext(video_name)[0]}.srt\"))\n",
    "        \n",
    "    except Exception as e:\n",
    "        print(f\"Error transcribing {video_name}: {e}\")\n",
    "        continue\n",
    "\n",
    "    \n",
    "    \n"
   ]
  },
  {
   "cell_type": "markdown",
   "id": "d7922212",
   "metadata": {},
   "source": [
    "# Generate CSV file"
   ]
  },
  {
   "cell_type": "code",
   "execution_count": null,
   "id": "2419d16b",
   "metadata": {},
   "outputs": [
    {
     "name": "stderr",
     "output_type": "stream",
     "text": [
      "100%|█████████████████████████████████████████████████████████████████████████| 108039/108039 [05:08<00:00, 350.54it/s]\n"
     ]
    }
   ],
   "source": [
    "import os\n",
    "import csv\n",
    "from tqdm import tqdm\n",
    "\n",
    "\n",
    "directory = r'./TVB_SRT_Transcribing/srts'\n",
    "\n",
    "\n",
    "def parse_srt(file_path):\n",
    "    with open(file_path, 'r', encoding='utf-8') as f:\n",
    "        lines = [line.strip() for line in f.readlines()]\n",
    "    \n",
    "    \n",
    "    blocks = []\n",
    "    current_block = []\n",
    "    for line in lines:\n",
    "        if line == '':\n",
    "            if current_block:\n",
    "                blocks.append(current_block)\n",
    "                current_block = []\n",
    "        else:\n",
    "            current_block.append(line)\n",
    "    if current_block:\n",
    "        blocks.append(current_block)\n",
    "    \n",
    "    \n",
    "    subtitles = []\n",
    "    for block in blocks:\n",
    "        \n",
    "        if len(block) >= 3:\n",
    "            text_lines = block[2:]  \n",
    "            text = ' '.join(text_lines)  \n",
    "            subtitles.append(text)\n",
    "    \n",
    "    return subtitles\n",
    "\n",
    "\n",
    "srt_files = [f for f in os.listdir(directory) if f.endswith('.srt')]\n",
    "\n",
    "\n",
    "all_rows = []\n",
    "for srt_file in tqdm(srt_files):\n",
    "    video_id = os.path.splitext(srt_file)[0]  \n",
    "    file_path = os.path.join(directory, srt_file)\n",
    "    subtitles = parse_srt(file_path)\n",
    "    \n",
    "    \n",
    "    for index, content in enumerate(subtitles):\n",
    "        row_id = f\"{video_id}_{index}\"  \n",
    "        all_rows.append([row_id, content])\n",
    "\n",
    "\n",
    "with open('output.csv', 'w', encoding='utf-8', newline='') as f:\n",
    "    writer = csv.writer(f)\n",
    "    writer.writerow(['video_id', 'content'])  \n",
    "    writer.writerows(all_rows)  "
   ]
  }
 ],
 "metadata": {
  "language_info": {
   "name": "python"
  }
 },
 "nbformat": 4,
 "nbformat_minor": 5
}
